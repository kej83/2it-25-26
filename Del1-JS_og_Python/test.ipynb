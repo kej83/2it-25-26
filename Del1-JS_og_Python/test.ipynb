{
 "cells": [
  {
   "cell_type": "markdown",
   "id": "e3b7a701-45c8-46b7-9505-f1f0c7047183",
   "metadata": {},
   "source": [
    "# Test"
   ]
  },
  {
   "cell_type": "code",
   "execution_count": 1,
   "id": "d6c73877-12ec-44cf-8460-437dd0551a2e",
   "metadata": {},
   "outputs": [
    {
     "name": "stdout",
     "output_type": "stream",
     "text": [
      "hei\n"
     ]
    }
   ],
   "source": [
    "print(\"hei\")"
   ]
  },
  {
   "cell_type": "markdown",
   "id": "5f897e14-2570-452f-b99c-a6dd18390810",
   "metadata": {},
   "source": [
    "## Eksempel 2\n",
    "Her ser vi en variabel og print"
   ]
  },
  {
   "cell_type": "code",
   "execution_count": 2,
   "id": "0df847b0-df51-4999-a3f1-c7a8c3785287",
   "metadata": {},
   "outputs": [
    {
     "name": "stdout",
     "output_type": "stream",
     "text": [
      "5\n"
     ]
    }
   ],
   "source": [
    "a = 3\n",
    "a = a + 2\n",
    "print(a)"
   ]
  },
  {
   "cell_type": "markdown",
   "id": "99fd5d8f-b711-4951-9c55-17084ff8d69a",
   "metadata": {},
   "source": [
    "sdfsdfsdf\n",
    "\n",
    "\n"
   ]
  },
  {
   "cell_type": "code",
   "execution_count": null,
   "id": "a97e9f63-116b-467d-8f83-fa7db8eb5d18",
   "metadata": {},
   "outputs": [],
   "source": []
  }
 ],
 "metadata": {
  "kernelspec": {
   "display_name": "Python 3 (ipykernel)",
   "language": "python",
   "name": "python3"
  },
  "language_info": {
   "codemirror_mode": {
    "name": "ipython",
    "version": 3
   },
   "file_extension": ".py",
   "mimetype": "text/x-python",
   "name": "python",
   "nbconvert_exporter": "python",
   "pygments_lexer": "ipython3",
   "version": "3.11.9"
  }
 },
 "nbformat": 4,
 "nbformat_minor": 5
}
